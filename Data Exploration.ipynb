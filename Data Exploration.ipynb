{
 "cells": [
  {
   "cell_type": "code",
   "execution_count": 2,
   "metadata": {},
   "outputs": [
    {
     "name": "stderr",
     "output_type": "stream",
     "text": [
      "[nltk_data] Downloading package punkt to\n",
      "[nltk_data]     C:\\Users\\musta\\AppData\\Roaming\\nltk_data...\n",
      "[nltk_data]   Package punkt is already up-to-date!\n",
      "[nltk_data] Downloading package wordnet to\n",
      "[nltk_data]     C:\\Users\\musta\\AppData\\Roaming\\nltk_data...\n",
      "[nltk_data]   Package wordnet is already up-to-date!\n",
      "[nltk_data] Error loading pos_tag: Package 'pos_tag' not found in\n",
      "[nltk_data]     index\n",
      "[nltk_data] Downloading package averaged_perceptron_tagger to\n",
      "[nltk_data]     C:\\Users\\musta\\AppData\\Roaming\\nltk_data...\n",
      "[nltk_data]   Package averaged_perceptron_tagger is already up-to-\n",
      "[nltk_data]       date!\n"
     ]
    }
   ],
   "source": [
    "import pandas as pd # algebraic computations , read and write to csv \n",
    "\n",
    "import numpy as np # linear algebra and arrays muniplication \n",
    "\n",
    "import requests, zipfile, io    # Needed to download and extract the data sets of dev and eval \n",
    "\n",
    "# from pandarallel import pandarallel       # Parallel computation on data frames\n",
    "import time                               # measure excution time of some functions\n",
    "\n",
    "############  importing the data visualization libraries :##############\n",
    "\n",
    "import matplotlib.pyplot as plt\n",
    "import seaborn as sns\n",
    "\n",
    "############  Import Classifiers #################\n",
    "\n",
    "from sklearn.svm import LinearSVC\n",
    "from sklearn.linear_model import LogisticRegressionCV\n",
    "from sklearn.naive_bayes import BernoulliNB\n",
    "\n",
    "# Importing a model to split the training set from the evaluation set\n",
    "from sklearn.model_selection import train_test_split \n",
    "\n",
    "############  Evaluation Metric  #################\n",
    "from sklearn.metrics import f1_score , make_scorer\n",
    "\n",
    "############  GridSearchCV #################\n",
    "from sklearn.model_selection import GridSearchCV\n",
    "\n",
    "################## Tuxtual data prprocessing ##################\n",
    "from sklearn. feature_extraction.text import TfidfVectorizer \n",
    "import warnings\n",
    "warnings.filterwarnings(\"ignore\")\n",
    "from os import path\n",
    "from PIL import Image\n",
    "\n",
    "import nltk\n",
    "from wordcloud import WordCloud\n",
    "from nltk import pos_tag\n",
    "from nltk.stem import PorterStemmer\n",
    "from nltk.tokenize import TweetTokenizer ,word_tokenize\n",
    "from nltk.stem.wordnet import WordNetLemmatizer\n",
    "from nltk.corpus import stopwords as sw\n",
    "import re\n",
    "import string\n",
    "from sklearn.feature_extraction.text import ENGLISH_STOP_WORDS\n",
    "#### some libraries must be downloaded\n",
    "nltk.download('punkt')\n",
    "nltk.download('wordnet')\n",
    "nltk.download('pos_tag')\n",
    "nltk.download('averaged_perceptron_tagger') \n",
    "\n",
    "%matplotlib inline\n",
    "plt.style.use('seaborn-notebook' ) # plotting style"
   ]
  },
  {
   "cell_type": "markdown",
   "metadata": {},
   "source": [
    "### download and extract the data sets and make data frames for development and evaluation "
   ]
  },
  {
   "cell_type": "code",
   "execution_count": 3,
   "metadata": {},
   "outputs": [],
   "source": [
    "#############\n",
    "def download_dataset(zip_file_url):\n",
    "    r = requests.get(zip_file_url)\n",
    "    z = zipfile.ZipFile(io.BytesIO(r.content))\n",
    "    z.extractall()\n",
    "    \n",
    "download_dataset('https://dbdmg.polito.it/dbdmg_web/wp-content/uploads/2021/12/DSL2122_january_dataset.zip')\n",
    "\n"
   ]
  },
  {
   "cell_type": "code",
   "execution_count": 4,
   "metadata": {},
   "outputs": [],
   "source": [
    "##### create data frames from the CSV files \n",
    "\n",
    "dev_df = pd.read_csv('./DSL2122_january_dataset/development.csv')    \n",
    "eval_df = pd.read_csv('./DSL2122_january_dataset/evaluation.csv')"
   ]
  },
  {
   "cell_type": "code",
   "execution_count": 5,
   "metadata": {},
   "outputs": [
    {
     "data": {
      "text/html": [
       "<div>\n",
       "<style scoped>\n",
       "    .dataframe tbody tr th:only-of-type {\n",
       "        vertical-align: middle;\n",
       "    }\n",
       "\n",
       "    .dataframe tbody tr th {\n",
       "        vertical-align: top;\n",
       "    }\n",
       "\n",
       "    .dataframe thead th {\n",
       "        text-align: right;\n",
       "    }\n",
       "</style>\n",
       "<table border=\"1\" class=\"dataframe\">\n",
       "  <thead>\n",
       "    <tr style=\"text-align: right;\">\n",
       "      <th></th>\n",
       "      <th>sentiment</th>\n",
       "      <th>ids</th>\n",
       "      <th>date</th>\n",
       "      <th>flag</th>\n",
       "      <th>user</th>\n",
       "      <th>text</th>\n",
       "    </tr>\n",
       "  </thead>\n",
       "  <tbody>\n",
       "    <tr>\n",
       "      <th>0</th>\n",
       "      <td>1</td>\n",
       "      <td>1833972543</td>\n",
       "      <td>Mon May 18 01:08:27 PDT 2009</td>\n",
       "      <td>NO_QUERY</td>\n",
       "      <td>Killandra</td>\n",
       "      <td>@MissBianca76 Yes, talking helps a lot.. going...</td>\n",
       "    </tr>\n",
       "    <tr>\n",
       "      <th>1</th>\n",
       "      <td>1</td>\n",
       "      <td>1980318193</td>\n",
       "      <td>Sun May 31 06:23:17 PDT 2009</td>\n",
       "      <td>NO_QUERY</td>\n",
       "      <td>IMlisacowan</td>\n",
       "      <td>SUNSHINE. livingg itttt. imma lie on the grass...</td>\n",
       "    </tr>\n",
       "    <tr>\n",
       "      <th>2</th>\n",
       "      <td>1</td>\n",
       "      <td>1994409198</td>\n",
       "      <td>Mon Jun 01 11:52:54 PDT 2009</td>\n",
       "      <td>NO_QUERY</td>\n",
       "      <td>yaseminx3</td>\n",
       "      <td>@PleaseBeMine Something for your iphone</td>\n",
       "    </tr>\n",
       "    <tr>\n",
       "      <th>3</th>\n",
       "      <td>0</td>\n",
       "      <td>1824749377</td>\n",
       "      <td>Sun May 17 02:45:34 PDT 2009</td>\n",
       "      <td>NO_QUERY</td>\n",
       "      <td>no_surprises</td>\n",
       "      <td>@GabrielSaporta couldn't get in to the after p...</td>\n",
       "    </tr>\n",
       "    <tr>\n",
       "      <th>4</th>\n",
       "      <td>0</td>\n",
       "      <td>2001199113</td>\n",
       "      <td>Tue Jun 02 00:08:07 PDT 2009</td>\n",
       "      <td>NO_QUERY</td>\n",
       "      <td>Rhi_ShortStack</td>\n",
       "      <td>@bradiewebbstack awww is andy being mean again...</td>\n",
       "    </tr>\n",
       "  </tbody>\n",
       "</table>\n",
       "</div>"
      ],
      "text/plain": [
       "   sentiment         ids                          date      flag  \\\n",
       "0          1  1833972543  Mon May 18 01:08:27 PDT 2009  NO_QUERY   \n",
       "1          1  1980318193  Sun May 31 06:23:17 PDT 2009  NO_QUERY   \n",
       "2          1  1994409198  Mon Jun 01 11:52:54 PDT 2009  NO_QUERY   \n",
       "3          0  1824749377  Sun May 17 02:45:34 PDT 2009  NO_QUERY   \n",
       "4          0  2001199113  Tue Jun 02 00:08:07 PDT 2009  NO_QUERY   \n",
       "\n",
       "             user                                               text  \n",
       "0       Killandra  @MissBianca76 Yes, talking helps a lot.. going...  \n",
       "1     IMlisacowan  SUNSHINE. livingg itttt. imma lie on the grass...  \n",
       "2       yaseminx3           @PleaseBeMine Something for your iphone   \n",
       "3    no_surprises  @GabrielSaporta couldn't get in to the after p...  \n",
       "4  Rhi_ShortStack  @bradiewebbstack awww is andy being mean again...  "
      ]
     },
     "execution_count": 5,
     "metadata": {},
     "output_type": "execute_result"
    }
   ],
   "source": [
    "dev_df.head()"
   ]
  },
  {
   "cell_type": "code",
   "execution_count": 6,
   "metadata": {},
   "outputs": [
    {
     "name": "stdout",
     "output_type": "stream",
     "text": [
      "<class 'pandas.core.frame.DataFrame'>\n",
      "RangeIndex: 224994 entries, 0 to 224993\n",
      "Data columns (total 6 columns):\n",
      " #   Column     Non-Null Count   Dtype \n",
      "---  ------     --------------   ----- \n",
      " 0   sentiment  224994 non-null  int64 \n",
      " 1   ids        224994 non-null  int64 \n",
      " 2   date       224994 non-null  object\n",
      " 3   flag       224994 non-null  object\n",
      " 4   user       224994 non-null  object\n",
      " 5   text       224994 non-null  object\n",
      "dtypes: int64(2), object(4)\n",
      "memory usage: 10.3+ MB\n"
     ]
    }
   ],
   "source": [
    "dev_df.info()"
   ]
  },
  {
   "cell_type": "code",
   "execution_count": 7,
   "metadata": {},
   "outputs": [
    {
     "name": "stdout",
     "output_type": "stream",
     "text": [
      "************************************************** \n",
      " the Development set containts 224994 samples and 5 features which are ['ids', 'date', 'flag', 'user', 'text'] \n",
      "************************************************** \n",
      " the Evaluation set containts 74999 samples \n"
     ]
    }
   ],
   "source": [
    "# check the lenght of data frames\n",
    "print (\"*\" * 50 ,\"\\n\" , f\"the Development set containts {len(dev_df)} samples and {len(list(dev_df.columns)) - 1} features which are { list(dev_df.drop(['sentiment'],axis=1).columns) } \" )\n",
    "print (\"*\" * 50 , \"\\n\" ,f\"the Evaluation set containts {len(eval_df)} samples \" )"
   ]
  },
  {
   "cell_type": "markdown",
   "metadata": {},
   "source": [
    "##### check the cardinality of each feature in the Training set "
   ]
  },
  {
   "cell_type": "code",
   "execution_count": 8,
   "metadata": {},
   "outputs": [
    {
     "data": {
      "image/png": "[encoded data removed]",
      "text/plain": [
       "<Figure size 864x576 with 1 Axes>"
      ]
     },
     "metadata": {
      "needs_background": "light"
     },
     "output_type": "display_data"
    }
   ],
   "source": [
    "x = dev_df.nunique().sort_values().index\n",
    "y = dev_df.nunique().sort_values().values\n",
    "\n",
    "fig, ax = plt.subplots(figsize=(12,8))    \n",
    "width = 0.5 # the width of the bars \n",
    "ind = np.arange(len(y))  # the x locations for the groups\n",
    "ax.barh(ind, y, width, color=\"blue\")\n",
    "ax.set_yticks(ind+width/2)\n",
    "ax.set_yticklabels(x, minor=False)\n",
    "plt.title('Cardinality of Features')\n",
    "plt.grid()\n",
    "plt.yticks(rotation=45)\n",
    "plt.xlabel('cardinality')\n",
    "plt.ylabel('Feature_Name') \n",
    "for i, v in enumerate(y):\n",
    "    ax.text(v + 3, i + .25, str(v), color='black', fontweight='bold',rotation=45)\n",
    "# plt.show()\n",
    "plt.savefig(\"Cardinality of Features.png\", dpi=300,  bbox_inches='tight') # use format='svg' or 'pdf' for vectorial pictures"
   ]
  },
  {
   "cell_type": "markdown",
   "metadata": {},
   "source": [
    "#### 1- Ids feature :"
   ]
  },
  {
   "cell_type": "code",
   "execution_count": 9,
   "metadata": {},
   "outputs": [
    {
     "name": "stdout",
     "output_type": "stream",
     "text": [
      " the percentage of unique ids in the data set is 99.88%\n"
     ]
    }
   ],
   "source": [
    "# the percentage of unique ids in the data set is \n",
    "print(f\" the percentage of unique ids in the data set is {100*dev_df.ids.nunique() / len(dev_df):.2f}%\")"
   ]
  },
  {
   "cell_type": "markdown",
   "metadata": {},
   "source": [
    "##### check for Duplications\n",
    "Note : Duplications are not useful for the analysis as it will slow the training time and will not add useful learning data for the model ( we will decide how to handel it later )"
   ]
  },
  {
   "cell_type": "code",
   "execution_count": 10,
   "metadata": {},
   "outputs": [
    {
     "name": "stdout",
     "output_type": "stream",
     "text": [
      "************************************************** \n",
      " There are 278 duplicated samples , around 0.124%  of the development set\n"
     ]
    }
   ],
   "source": [
    "# from the previous analysis we indicate that there are some duplicated reviews and we should investigate more \n",
    "# check for duplications in the data set we should make sure that the duplication is in all the features \n",
    "duplication_count = dev_df.drop(['sentiment'] , axis=1).duplicated().sum()\n",
    "duplication_perc = 100* dev_df.drop(['sentiment'] , axis=1).duplicated().sum() /len (dev_df)\n",
    "print(\"*\" * 50 ,\"\\n\" ,f\"There are {duplication_count} duplicated samples , around {duplication_perc :0.3f}%  of the development set\")\n",
    "mask = dev_df.drop(['sentiment'] , axis=1).duplicated(keep=False)\n"
   ]
  },
  {
   "cell_type": "code",
   "execution_count": 11,
   "metadata": {},
   "outputs": [
    {
     "data": {
      "text/html": [
       "<div>\n",
       "<style scoped>\n",
       "    .dataframe tbody tr th:only-of-type {\n",
       "        vertical-align: middle;\n",
       "    }\n",
       "\n",
       "    .dataframe tbody tr th {\n",
       "        vertical-align: top;\n",
       "    }\n",
       "\n",
       "    .dataframe thead th {\n",
       "        text-align: right;\n",
       "    }\n",
       "</style>\n",
       "<table border=\"1\" class=\"dataframe\">\n",
       "  <thead>\n",
       "    <tr style=\"text-align: right;\">\n",
       "      <th></th>\n",
       "      <th>user</th>\n",
       "      <th>text</th>\n",
       "    </tr>\n",
       "  </thead>\n",
       "  <tbody>\n",
       "    <tr>\n",
       "      <th>128</th>\n",
       "      <td>Tas_E</td>\n",
       "      <td>@reneenay http://twitpic.com/6bjlw - Oooh, Weimaraner? They are soo pretty.  My poor little dog has to have surgery next week.</td>\n",
       "    </tr>\n",
       "    <tr>\n",
       "      <th>103947</th>\n",
       "      <td>Tas_E</td>\n",
       "      <td>@reneenay http://twitpic.com/6bjlw - Oooh, Weimaraner? They are soo pretty.  My poor little dog has to have surgery next week.</td>\n",
       "    </tr>\n",
       "  </tbody>\n",
       "</table>\n",
       "</div>"
      ],
      "text/plain": [
       "         user  \\\n",
       "128     Tas_E   \n",
       "103947  Tas_E   \n",
       "\n",
       "                                                                                                                                   text  \n",
       "128     @reneenay http://twitpic.com/6bjlw - Oooh, Weimaraner? They are soo pretty.  My poor little dog has to have surgery next week.   \n",
       "103947  @reneenay http://twitpic.com/6bjlw - Oooh, Weimaraner? They are soo pretty.  My poor little dog has to have surgery next week.   "
      ]
     },
     "execution_count": 11,
     "metadata": {},
     "output_type": "execute_result"
    }
   ],
   "source": [
    "# example of 2 reviews with the same text \n",
    "pd.set_option(\"max_colwidth\", None)\n",
    "df_dup = dev_df[mask]\n",
    "df_dup.loc[df_dup.ids == 1978708145 , [\"user\" , \"text\"]]"
   ]
  },
  {
   "cell_type": "code",
   "execution_count": 12,
   "metadata": {},
   "outputs": [
    {
     "data": {
      "text/html": [
       "<div>\n",
       "<style scoped>\n",
       "    .dataframe tbody tr th:only-of-type {\n",
       "        vertical-align: middle;\n",
       "    }\n",
       "\n",
       "    .dataframe tbody tr th {\n",
       "        vertical-align: top;\n",
       "    }\n",
       "\n",
       "    .dataframe thead th {\n",
       "        text-align: right;\n",
       "    }\n",
       "</style>\n",
       "<table border=\"1\" class=\"dataframe\">\n",
       "  <thead>\n",
       "    <tr style=\"text-align: right;\">\n",
       "      <th></th>\n",
       "      <th>sentiment</th>\n",
       "      <th>ids</th>\n",
       "      <th>date</th>\n",
       "      <th>flag</th>\n",
       "      <th>user</th>\n",
       "      <th>text</th>\n",
       "    </tr>\n",
       "  </thead>\n",
       "  <tbody>\n",
       "    <tr>\n",
       "      <th>128</th>\n",
       "      <td>0</td>\n",
       "      <td>1978708145</td>\n",
       "      <td>Sun May 31 00:12:13 PDT 2009</td>\n",
       "      <td>NO_QUERY</td>\n",
       "      <td>Tas_E</td>\n",
       "      <td>@reneenay http://twitpic.com/6bjlw - Oooh, Weimaraner? They are soo pretty.  My poor little dog has to have surgery next week.</td>\n",
       "    </tr>\n",
       "    <tr>\n",
       "      <th>103947</th>\n",
       "      <td>1</td>\n",
       "      <td>1978708145</td>\n",
       "      <td>Sun May 31 00:12:13 PDT 2009</td>\n",
       "      <td>NO_QUERY</td>\n",
       "      <td>Tas_E</td>\n",
       "      <td>@reneenay http://twitpic.com/6bjlw - Oooh, Weimaraner? They are soo pretty.  My poor little dog has to have surgery next week.</td>\n",
       "    </tr>\n",
       "  </tbody>\n",
       "</table>\n",
       "</div>"
      ],
      "text/plain": [
       "        sentiment         ids                          date      flag   user  \\\n",
       "128             0  1978708145  Sun May 31 00:12:13 PDT 2009  NO_QUERY  Tas_E   \n",
       "103947          1  1978708145  Sun May 31 00:12:13 PDT 2009  NO_QUERY  Tas_E   \n",
       "\n",
       "                                                                                                                                   text  \n",
       "128     @reneenay http://twitpic.com/6bjlw - Oooh, Weimaraner? They are soo pretty.  My poor little dog has to have surgery next week.   \n",
       "103947  @reneenay http://twitpic.com/6bjlw - Oooh, Weimaraner? They are soo pretty.  My poor little dog has to have surgery next week.   "
      ]
     },
     "execution_count": 12,
     "metadata": {},
     "output_type": "execute_result"
    }
   ],
   "source": [
    "# example of 2 reviews with the exact same values of features \n",
    "pd.set_option(\"max_colwidth\", None)\n",
    "df_dup = dev_df[mask]\n",
    "df_dup[df_dup.ids == 1978708145]"
   ]
  },
  {
   "cell_type": "markdown",
   "metadata": {},
   "source": [
    "#### 2- Flag feature :\n"
   ]
  },
  {
   "cell_type": "code",
   "execution_count": 13,
   "metadata": {},
   "outputs": [
    {
     "name": "stdout",
     "output_type": "stream",
     "text": [
      "************************************************** \n",
      " The “Flag ” attribute has 1 unique value (the same value ) in the development set so it's not useful for analysis\n",
      "************************************************** \n",
      " The “Flag ” attribute has 1 unique value (the same value ) in the evaluation set so it's not useful for analysis\n"
     ]
    }
   ],
   "source": [
    "print(\"*\" * 50 ,\"\\n\" ,f\"The “Flag ” attribute has {dev_df.flag.nunique()} unique value (the same value ) in the development set so it's not useful for analysis\")\n",
    "print(\"*\" * 50 ,\"\\n\" ,f\"The “Flag ” attribute has {eval_df.flag.nunique()} unique value (the same value ) in the evaluation set so it's not useful for analysis\")\n"
   ]
  },
  {
   "cell_type": "markdown",
   "metadata": {},
   "source": [
    "#### 3- Target Variable (class label ) analysis :"
   ]
  },
  {
   "cell_type": "code",
   "execution_count": 14,
   "metadata": {},
   "outputs": [
    {
     "data": {
      "image/png": "[encoded data removed]",
      "text/plain": [
       "<Figure size 576x396 with 1 Axes>"
      ]
     },
     "metadata": {
      "needs_background": "light"
     },
     "output_type": "display_data"
    },
    {
     "data": {
      "text/plain": [
       "1    130157\n",
       "0     94837\n",
       "Name: sentiment, dtype: int64"
      ]
     },
     "execution_count": 14,
     "metadata": {},
     "output_type": "execute_result"
    }
   ],
   "source": [
    "dev_df.sentiment.value_counts().sort_values(ascending=True).plot.barh()\n",
    "plt.yticks([0,1] , labels=[\"Class 0\",\"Class 1\"  ],rotation=45)\n",
    "plt.grid()\n",
    "plt.savefig(\"Class Label Distribution.png\", dpi=300,  bbox_inches='tight')\n",
    "plt.show()\n",
    "dev_df.sentiment.value_counts()"
   ]
  },
  {
   "cell_type": "code",
   "execution_count": 16,
   "metadata": {},
   "outputs": [
    {
     "name": "stdout",
     "output_type": "stream",
     "text": [
      "We have an imbalanced class distribution in the development set where : \n",
      " 0.58 % is class_1 and 0.42 % is class_0  \n"
     ]
    }
   ],
   "source": [
    "class_1 = dev_df.sentiment.value_counts().values[0]\n",
    "class_0 = dev_df.sentiment.value_counts().values[1]\n",
    "per_c1 = class_1 / len(dev_df)\n",
    "per_c0 = class_0 / len(dev_df)\n",
    "print(f\"We have an imbalanced class distribution in the development set where : \\n {per_c1:.2f} % is class_1 and {per_c0:.2f} % is class_0  \")"
   ]
  },
  {
   "cell_type": "markdown",
   "metadata": {},
   "source": [
    "###  Analyzing Date Feature "
   ]
  },
  {
   "cell_type": "code",
   "execution_count": 17,
   "metadata": {},
   "outputs": [
    {
     "name": "stdout",
     "output_type": "stream",
     "text": [
      "************************************************** \n",
      " The “Date” attribute has 189779 unique value , which is almost 0.843 %\n"
     ]
    }
   ],
   "source": [
    "####### Cardinality of the date feature \n",
    "print(\"*\" * 50 ,\"\\n\" ,f\"The “Date” attribute has {dev_df.date.nunique()} unique value , which is almost {dev_df.date.nunique()/len(dev_df):0.3f} %\")"
   ]
  },
  {
   "cell_type": "code",
   "execution_count": 18,
   "metadata": {},
   "outputs": [
    {
     "name": "stdout",
     "output_type": "stream",
     "text": [
      "224994\n",
      "are all the tweeets are from the same year ? True\n"
     ]
    }
   ],
   "source": [
    "# all reviews are from the same year \n",
    "mask = dev_df.date.str.contains(\"PDT 2009\")\n",
    "print(len(dev_df[mask]))\n",
    "print(f'are all the tweeets are from the same year ? {len(dev_df[mask]) == len(dev_df)}')"
   ]
  },
  {
   "cell_type": "markdown",
   "metadata": {},
   "source": [
    "##### A- Analyzing and discretizing date by Week day holiday and not "
   ]
  },
  {
   "cell_type": "code",
   "execution_count": 19,
   "metadata": {},
   "outputs": [],
   "source": [
    "# make a copy to avoid changing the original data set \n",
    "test_date = dev_df.copy(deep=True)\n",
    "\n",
    "# create a mapping function to map the days to holiday or work day \n",
    "def is_holiday (x):\n",
    "    \n",
    "    if x.split()[0] in [\"Sat\" , \"Sun\"] :\n",
    "        return \"Holiday\"\n",
    "    else :\n",
    "        return \"work_day\"\n"
   ]
  },
  {
   "cell_type": "code",
   "execution_count": 20,
   "metadata": {},
   "outputs": [],
   "source": [
    "test_date['date'] =  test_date.date.apply(is_holiday)"
   ]
  },
  {
   "cell_type": "code",
   "execution_count": 27,
   "metadata": {},
   "outputs": [
    {
     "data": {
      "text/plain": [
       "work_day    125113\n",
       "Holiday      99881\n",
       "Name: date, dtype: int64"
      ]
     },
     "execution_count": 27,
     "metadata": {},
     "output_type": "execute_result"
    }
   ],
   "source": [
    "test_date['date'].value_counts()"
   ]
  },
  {
   "cell_type": "code",
   "execution_count": 21,
   "metadata": {},
   "outputs": [
    {
     "data": {
      "text/html": [
       "<div>\n",
       "<style scoped>\n",
       "    .dataframe tbody tr th:only-of-type {\n",
       "        vertical-align: middle;\n",
       "    }\n",
       "\n",
       "    .dataframe tbody tr th {\n",
       "        vertical-align: top;\n",
       "    }\n",
       "\n",
       "    .dataframe thead th {\n",
       "        text-align: right;\n",
       "    }\n",
       "</style>\n",
       "<table border=\"1\" class=\"dataframe\">\n",
       "  <thead>\n",
       "    <tr style=\"text-align: right;\">\n",
       "      <th></th>\n",
       "      <th>sentiment</th>\n",
       "      <th>ids</th>\n",
       "      <th>date</th>\n",
       "      <th>flag</th>\n",
       "      <th>user</th>\n",
       "      <th>text</th>\n",
       "    </tr>\n",
       "  </thead>\n",
       "  <tbody>\n",
       "    <tr>\n",
       "      <th>0</th>\n",
       "      <td>1</td>\n",
       "      <td>1833972543</td>\n",
       "      <td>work_day</td>\n",
       "      <td>NO_QUERY</td>\n",
       "      <td>Killandra</td>\n",
       "      <td>@MissBianca76 Yes, talking helps a lot.. going through it, there's no judgment... most sentences end with &amp;quot;you know what I mean&amp;quot;</td>\n",
       "    </tr>\n",
       "    <tr>\n",
       "      <th>1</th>\n",
       "      <td>1</td>\n",
       "      <td>1980318193</td>\n",
       "      <td>Holiday</td>\n",
       "      <td>NO_QUERY</td>\n",
       "      <td>IMlisacowan</td>\n",
       "      <td>SUNSHINE. livingg itttt. imma lie on the grass listening to oasis reading  burnt already</td>\n",
       "    </tr>\n",
       "    <tr>\n",
       "      <th>2</th>\n",
       "      <td>1</td>\n",
       "      <td>1994409198</td>\n",
       "      <td>work_day</td>\n",
       "      <td>NO_QUERY</td>\n",
       "      <td>yaseminx3</td>\n",
       "      <td>@PleaseBeMine Something for your iphone</td>\n",
       "    </tr>\n",
       "    <tr>\n",
       "      <th>3</th>\n",
       "      <td>0</td>\n",
       "      <td>1824749377</td>\n",
       "      <td>Holiday</td>\n",
       "      <td>NO_QUERY</td>\n",
       "      <td>no_surprises</td>\n",
       "      <td>@GabrielSaporta couldn't get in to the after party.</td>\n",
       "    </tr>\n",
       "    <tr>\n",
       "      <th>4</th>\n",
       "      <td>0</td>\n",
       "      <td>2001199113</td>\n",
       "      <td>work_day</td>\n",
       "      <td>NO_QUERY</td>\n",
       "      <td>Rhi_ShortStack</td>\n",
       "      <td>@bradiewebbstack awww is andy being mean again?  Now i want maccas.</td>\n",
       "    </tr>\n",
       "  </tbody>\n",
       "</table>\n",
       "</div>"
      ],
      "text/plain": [
       "   sentiment         ids      date      flag            user  \\\n",
       "0          1  1833972543  work_day  NO_QUERY       Killandra   \n",
       "1          1  1980318193   Holiday  NO_QUERY     IMlisacowan   \n",
       "2          1  1994409198  work_day  NO_QUERY       yaseminx3   \n",
       "3          0  1824749377   Holiday  NO_QUERY    no_surprises   \n",
       "4          0  2001199113  work_day  NO_QUERY  Rhi_ShortStack   \n",
       "\n",
       "                                                                                                                                          text  \n",
       "0  @MissBianca76 Yes, talking helps a lot.. going through it, there's no judgment... most sentences end with &quot;you know what I mean&quot;   \n",
       "1                                                     SUNSHINE. livingg itttt. imma lie on the grass listening to oasis reading  burnt already  \n",
       "2                                                                                                     @PleaseBeMine Something for your iphone   \n",
       "3                                                                                         @GabrielSaporta couldn't get in to the after party.   \n",
       "4                                                                         @bradiewebbstack awww is andy being mean again?  Now i want maccas.   "
      ]
     },
     "execution_count": 21,
     "metadata": {},
     "output_type": "execute_result"
    }
   ],
   "source": [
    "test_date.head()"
   ]
  },
  {
   "cell_type": "code",
   "execution_count": 22,
   "metadata": {},
   "outputs": [],
   "source": [
    "###### to analyize the class distribution for wordays and holidays separatly we will make 2 copies of df \n",
    "mask_work = test_date.date == \"work_day\"\n",
    "ho_mask = test_date.date == \"Holiday\"\n",
    "work_df = test_date.copy(deep=True)[mask_work]\n",
    "ho_df = test_date.copy(deep=True)[ho_mask]"
   ]
  },
  {
   "cell_type": "code",
   "execution_count": 23,
   "metadata": {},
   "outputs": [
    {
     "data": {
      "text/plain": [
       "1    68432\n",
       "0    56681\n",
       "Name: sentiment, dtype: int64"
      ]
     },
     "execution_count": 23,
     "metadata": {},
     "output_type": "execute_result"
    }
   ],
   "source": [
    "work_df.sentiment.value_counts()"
   ]
  },
  {
   "cell_type": "code",
   "execution_count": 24,
   "metadata": {},
   "outputs": [
    {
     "data": {
      "text/plain": [
       "1    61725\n",
       "0    38156\n",
       "Name: sentiment, dtype: int64"
      ]
     },
     "execution_count": 24,
     "metadata": {},
     "output_type": "execute_result"
    }
   ],
   "source": [
    "ho_df.sentiment.value_counts()"
   ]
  },
  {
   "cell_type": "code",
   "execution_count": 25,
   "metadata": {},
   "outputs": [
    {
     "data": {
      "image/png": "[encoded data removed]",
      "text/plain": [
       "<Figure size 576x396 with 1 Axes>"
      ]
     },
     "metadata": {
      "needs_background": "light"
     },
     "output_type": "display_data"
    }
   ],
   "source": [
    "sns.histplot(x = \"date\" , hue = \"sentiment\"  , multiple=\"dodge\", data =test_date.drop([\"user\" , \"text\"] , axis=1 ) , shrink= 0.8 )\n",
    "plt.savefig(\"analyze date by Week Day\")"
   ]
  },
  {
   "cell_type": "markdown",
   "metadata": {},
   "source": [
    "##### B- analyzing and discretizing date by Month "
   ]
  },
  {
   "cell_type": "code",
   "execution_count": 28,
   "metadata": {},
   "outputs": [],
   "source": [
    "test_date = dev_df.copy(deep=True)"
   ]
  },
  {
   "cell_type": "code",
   "execution_count": 29,
   "metadata": {},
   "outputs": [],
   "source": [
    "test_date[\"month\"] = test_date.date.apply(lambda x : x.split()[1])"
   ]
  },
  {
   "cell_type": "code",
   "execution_count": 34,
   "metadata": {},
   "outputs": [
    {
     "data": {
      "text/plain": [
       "Jun    124305\n",
       "May     88977\n",
       "Apr     11712\n",
       "Name: month, dtype: int64"
      ]
     },
     "execution_count": 34,
     "metadata": {},
     "output_type": "execute_result"
    }
   ],
   "source": [
    "# the data is only for 3 months [april, may, june] and june has the most number of tweets\n",
    "test_date[\"month\"].value_counts()"
   ]
  },
  {
   "cell_type": "code",
   "execution_count": 35,
   "metadata": {},
   "outputs": [],
   "source": [
    "group_by_month = test_date.drop([\"date\"] , axis=1 ).groupby([\"month\"])"
   ]
  },
  {
   "cell_type": "code",
   "execution_count": 36,
   "metadata": {},
   "outputs": [],
   "source": [
    "months = [] \n",
    "class_1 = []\n",
    "class_0 = []\n",
    "for name , group in group_by_month:\n",
    "    months.append(name)\n",
    "    class_1.append(group[\"sentiment\"].value_counts( ).to_dict()[1])\n",
    "    class_0.append(group[\"sentiment\"].value_counts( ).to_dict()[0])\n"
   ]
  },
  {
   "cell_type": "code",
   "execution_count": 38,
   "metadata": {},
   "outputs": [
    {
     "data": {
      "image/png": "[encoded data removed]",
      "text/plain": [
       "<Figure size 576x396 with 1 Axes>"
      ]
     },
     "metadata": {
      "needs_background": "light"
     },
     "output_type": "display_data"
    }
   ],
   "source": [
    "sns.histplot(x = \"month\" , hue = \"sentiment\"  , multiple=\"dodge\", data =test_date.drop([\"date\"] , axis=1 ) , shrink= 0.8 )\n",
    "plt.savefig(\"analyze date by month - 1\")"
   ]
  },
  {
   "cell_type": "markdown",
   "metadata": {},
   "source": [
    "##### C- analyzing and discretizing date by hours : "
   ]
  },
  {
   "cell_type": "code",
   "execution_count": 40,
   "metadata": {},
   "outputs": [],
   "source": [
    "test_date = dev_df.copy(deep=True)"
   ]
  },
  {
   "cell_type": "code",
   "execution_count": 41,
   "metadata": {},
   "outputs": [
    {
     "data": {
      "text/plain": [
       "['Mon', 'May', '18', '01:08:27', 'PDT', '2009']"
      ]
     },
     "execution_count": 41,
     "metadata": {},
     "output_type": "execute_result"
    }
   ],
   "source": [
    "test_date.date[0].split()"
   ]
  },
  {
   "cell_type": "code",
   "execution_count": 45,
   "metadata": {},
   "outputs": [],
   "source": [
    "#### filter by hour \n",
    "test_date[\"hour\"] = test_date.date.apply(lambda x : x.split()[3][0])"
   ]
  },
  {
   "cell_type": "code",
   "execution_count": 46,
   "metadata": {},
   "outputs": [
    {
     "data": {
      "text/plain": [
       "Index(['sentiment', 'ids', 'date', 'flag', 'user', 'text', 'hour'], dtype='object')"
      ]
     },
     "execution_count": 46,
     "metadata": {},
     "output_type": "execute_result"
    }
   ],
   "source": [
    "test_date.columns"
   ]
  },
  {
   "cell_type": "code",
   "execution_count": 47,
   "metadata": {},
   "outputs": [
    {
     "data": {
      "text/plain": [
       "0    115533\n",
       "1     69851\n",
       "2     39610\n",
       "Name: hour, dtype: int64"
      ]
     },
     "execution_count": 47,
     "metadata": {},
     "output_type": "execute_result"
    }
   ],
   "source": [
    "test_date.hour.value_counts()"
   ]
  },
  {
   "cell_type": "code",
   "execution_count": 48,
   "metadata": {},
   "outputs": [
    {
     "data": {
      "image/png": "[encoded data removed]",
      "text/plain": [
       "<Figure size 576x396 with 1 Axes>"
      ]
     },
     "metadata": {
      "needs_background": "light"
     },
     "output_type": "display_data"
    }
   ],
   "source": [
    "sns.histplot(x = \"hour\" , hue = \"sentiment\"  , multiple=\"dodge\", data =test_date.drop([ 'date', 'user', 'text'] , axis=1 ) , shrink= 0.8 )\n",
    "plt.savefig(\"analyze date by Hours\")"
   ]
  },
  {
   "cell_type": "code",
   "execution_count": null,
   "metadata": {},
   "outputs": [],
   "source": []
  }
 ],
 "metadata": {
  "kernelspec": {
   "display_name": "Python 3",
   "language": "python",
   "name": "python3"
  },
  "language_info": {
   "codemirror_mode": {
    "name": "ipython",
    "version": 3
   },
   "file_extension": ".py",
   "mimetype": "text/x-python",
   "name": "python",
   "nbconvert_exporter": "python",
   "pygments_lexer": "ipython3",
   "version": "3.8.5"
  }
 },
 "nbformat": 4,
 "nbformat_minor": 4
}
