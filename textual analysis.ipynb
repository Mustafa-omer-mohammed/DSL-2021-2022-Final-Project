{
 "cells": [
  {
   "cell_type": "code",
   "execution_count": 1,
   "metadata": {},
   "outputs": [
    {
     "name": "stderr",
     "output_type": "stream",
     "text": [
      "[nltk_data] Downloading package punkt to\n",
      "[nltk_data]     C:\\Users\\musta\\AppData\\Roaming\\nltk_data...\n",
      "[nltk_data]   Package punkt is already up-to-date!\n",
      "[nltk_data] Downloading package wordnet to\n",
      "[nltk_data]     C:\\Users\\musta\\AppData\\Roaming\\nltk_data...\n",
      "[nltk_data]   Package wordnet is already up-to-date!\n",
      "[nltk_data] Error loading pos_tag: Package 'pos_tag' not found in\n",
      "[nltk_data]     index\n",
      "[nltk_data] Downloading package averaged_perceptron_tagger to\n",
      "[nltk_data]     C:\\Users\\musta\\AppData\\Roaming\\nltk_data...\n",
      "[nltk_data]   Package averaged_perceptron_tagger is already up-to-\n",
      "[nltk_data]       date!\n"
     ]
    }
   ],
   "source": [
    "import pandas as pd # algebraic computations , read and write to csv \n",
    "\n",
    "import numpy as np # linear algebra and arrays muniplication \n",
    "\n",
    "import requests, zipfile, io    # Needed to download and extract the data sets of dev and eval \n",
    "\n",
    "# from pandarallel import pandarallel       # Parallel computation on data frames\n",
    "import time                               # measure excution time of some functions\n",
    "\n",
    "############  importing the data visualization libraries :##############\n",
    "\n",
    "import matplotlib.pyplot as plt\n",
    "import seaborn as sns\n",
    "\n",
    "############  Import Classifiers #################\n",
    "\n",
    "from sklearn.svm import LinearSVC\n",
    "from sklearn.linear_model import LogisticRegressionCV\n",
    "from sklearn.naive_bayes import BernoulliNB\n",
    "\n",
    "# Importing a model to split the training set from the evaluation set\n",
    "from sklearn.model_selection import train_test_split \n",
    "\n",
    "############  Evaluation Metric  #################\n",
    "from sklearn.metrics import f1_score , make_scorer\n",
    "\n",
    "############  GridSearchCV #################\n",
    "from sklearn.model_selection import GridSearchCV\n",
    "\n",
    "################## Tuxtual data prprocessing ##################\n",
    "from sklearn. feature_extraction.text import TfidfVectorizer \n",
    "import warnings\n",
    "warnings.filterwarnings(\"ignore\")\n",
    "from os import path\n",
    "from PIL import Image\n",
    "#\n",
    "import nltk\n",
    "from wordcloud import WordCloud\n",
    "from nltk import pos_tag\n",
    "from nltk.stem import PorterStemmer\n",
    "from nltk.tokenize import TweetTokenizer ,word_tokenize\n",
    "from nltk.stem.wordnet import WordNetLemmatizer\n",
    "from nltk.corpus import stopwords as sw\n",
    "import re\n",
    "import string\n",
    "from sklearn.feature_extraction.text import ENGLISH_STOP_WORDS\n",
    "#### some libraries must be downloaded\n",
    "nltk.download('punkt')\n",
    "nltk.download('wordnet')\n",
    "nltk.download('pos_tag')\n",
    "nltk.download('averaged_perceptron_tagger') \n",
    "\n",
    "%matplotlib inline\n",
    "plt.style.use('seaborn-notebook' ) # plotting style"
   ]
  },
  {
   "cell_type": "markdown",
   "metadata": {},
   "source": [
    "### download and extract the data sets and make data frames for development and evaluation "
   ]
  },
  {
   "cell_type": "code",
   "execution_count": 2,
   "metadata": {},
   "outputs": [],
   "source": [
    "def download_dataset(zip_file_url):\n",
    "    r = requests.get(zip_file_url)\n",
    "    z = zipfile.ZipFile(io.BytesIO(r.content))\n",
    "    z.extractall()\n",
    "    \n",
    "download_dataset('https://dbdmg.polito.it/dbdmg_web/wp-content/uploads/2021/12/DSL2122_january_dataset.zip')\n",
    "\n"
   ]
  },
  {
   "cell_type": "code",
   "execution_count": 3,
   "metadata": {},
   "outputs": [],
   "source": [
    "dev_df = pd.read_csv('./DSL2122_january_dataset/development.csv')    \n",
    "eval_df = pd.read_csv('./DSL2122_january_dataset/evaluation.csv')"
   ]
  },
  {
   "cell_type": "markdown",
   "metadata": {},
   "source": [
    "## Duplicates Removal"
   ]
  },
  {
   "cell_type": "code",
   "execution_count": 4,
   "metadata": {},
   "outputs": [],
   "source": [
    "# Since we have no background of which tweet has the priority (The 2 tweets are identical in every feature values and not in the class label) and since the duplicated raws are only 0.25% of the whole dataset we decided to discard them \n",
    "def Remove_duplicated (df) :\n",
    "    x = list(df.drop([\"sentiment\"] , axis=1).columns)\n",
    "    df_drop_duplicates = df.copy(deep=True)\n",
    "    df_drop_duplicates.drop_duplicates(subset = x ,keep=False , inplace = True )\n",
    "    print(\"*\" * 50 ,\"\\n\" ,f\"len data set before remove duplication is  {len(df)} samples\")\n",
    "    print(\"*\" * 50 ,\"\\n\" ,f\"The ratio of duplicated samples in the data set is  {100*(len(df) -len(df_drop_duplicates))/len(df) :0.3f} %\")\n",
    "    print(\"*\" * 50 ,\"\\n\" ,f\"len data set after remove duplication is  {len(df_drop_duplicates)} samples\")\n",
    "    return df_drop_duplicates"
   ]
  },
  {
   "cell_type": "code",
   "execution_count": 5,
   "metadata": {},
   "outputs": [
    {
     "name": "stdout",
     "output_type": "stream",
     "text": [
      "************************************************** \n",
      " len data set before remove duplication is  224994 samples\n",
      "************************************************** \n",
      " The ratio of duplicated samples in the data set is  0.247 %\n",
      "************************************************** \n",
      " len data set after remove duplication is  224438 samples\n"
     ]
    }
   ],
   "source": [
    "df_drop_duplicates = Remove_duplicated(dev_df)"
   ]
  },
  {
   "cell_type": "code",
   "execution_count": null,
   "metadata": {},
   "outputs": [],
   "source": []
  }
 ],
 "metadata": {
  "kernelspec": {
   "display_name": "Python 3",
   "language": "python",
   "name": "python3"
  },
  "language_info": {
   "codemirror_mode": {
    "name": "ipython",
    "version": 3
   },
   "file_extension": ".py",
   "mimetype": "text/x-python",
   "name": "python",
   "nbconvert_exporter": "python",
   "pygments_lexer": "ipython3",
   "version": "3.8.5"
  }
 },
 "nbformat": 4,
 "nbformat_minor": 4
}
